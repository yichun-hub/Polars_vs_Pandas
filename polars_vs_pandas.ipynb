{
 "cells": [
  {
   "cell_type": "code",
   "execution_count": 3,
   "metadata": {},
   "outputs": [],
   "source": [
    "import pandas as pd\n",
    "import polars as pl\n",
    "import time\n",
    "import numpy as np"
   ]
  },
  {
   "attachments": {},
   "cell_type": "markdown",
   "metadata": {},
   "source": [
    "Create DataFrame"
   ]
  },
  {
   "cell_type": "code",
   "execution_count": 45,
   "metadata": {},
   "outputs": [],
   "source": [
    "data = {\n",
    "    \"Name\":[\"Joyce\", \"Elena\", \"Judy\", \"Mindy\"],\n",
    "    \"County\": [\"Taipei\", \"Taichung\", \"Yilan\", \"Tainan\"],\n",
    "    \"Salary\": [55000, 70000, 48000, 50000],\n",
    "    \"Job\":[\"Data analyst\", \"ML engineer\", \"Servant\", \"Project Manager\"]\n",
    "}"
   ]
  },
  {
   "cell_type": "code",
   "execution_count": 46,
   "metadata": {},
   "outputs": [
    {
     "name": "stdout",
     "output_type": "stream",
     "text": [
      "================== Pandas ==================\n",
      "    Name    County  Salary              Job\n",
      "0  Joyce    Taipei   55000     Data analyst\n",
      "1  Elena  Taichung   70000      ML engineer\n",
      "2   Judy     Yilan   48000          Servant\n",
      "3  Mindy    Tainan   50000  Project Manager\n",
      "\n",
      "================== Polars ==================\n",
      "shape: (4, 4)\n",
      "┌───────┬──────────┬────────┬─────────────────┐\n",
      "│ Name  ┆ County   ┆ Salary ┆ Job             │\n",
      "│ ---   ┆ ---      ┆ ---    ┆ ---             │\n",
      "│ str   ┆ str      ┆ i64    ┆ str             │\n",
      "╞═══════╪══════════╪════════╪═════════════════╡\n",
      "│ Joyce ┆ Taipei   ┆ 55000  ┆ Data analyst    │\n",
      "│ Elena ┆ Taichung ┆ 70000  ┆ ML engineer     │\n",
      "│ Judy  ┆ Yilan    ┆ 48000  ┆ Servant         │\n",
      "│ Mindy ┆ Tainan   ┆ 50000  ┆ Project Manager │\n",
      "└───────┴──────────┴────────┴─────────────────┘\n"
     ]
    }
   ],
   "source": [
    "pd_df = pd.DataFrame(data)\n",
    "pl_df = pl.DataFrame(data)\n",
    "print(\"================== Pandas ==================\")\n",
    "print(pd_df)\n",
    "print()\n",
    "print(\"================== Polars ==================\")\n",
    "print(pl_df)"
   ]
  },
  {
   "attachments": {},
   "cell_type": "markdown",
   "metadata": {},
   "source": [
    "取得前n筆及後n筆的資料"
   ]
  },
  {
   "cell_type": "code",
   "execution_count": 58,
   "metadata": {},
   "outputs": [
    {
     "name": "stdout",
     "output_type": "stream",
     "text": [
      "================== Pandas ==================\n",
      "* head function\n",
      "    Name    County  Salary           Job\n",
      "0  Joyce    Taipei   55000  Data analyst\n",
      "1  Elena  Taichung   70000   ML engineer\n",
      "\n",
      "* tail function\n",
      "    Name  County  Salary              Job\n",
      "2   Judy   Yilan   48000          Servant\n",
      "3  Mindy  Tainan   50000  Project Manager\n",
      "\n",
      "================== Polars ==================\n",
      "* head function\n",
      "shape: (2, 4)\n",
      "┌───────┬──────────┬────────┬──────────────┐\n",
      "│ Name  ┆ County   ┆ Salary ┆ Job          │\n",
      "│ ---   ┆ ---      ┆ ---    ┆ ---          │\n",
      "│ str   ┆ str      ┆ i64    ┆ str          │\n",
      "╞═══════╪══════════╪════════╪══════════════╡\n",
      "│ Joyce ┆ Taipei   ┆ 55000  ┆ Data analyst │\n",
      "│ Elena ┆ Taichung ┆ 70000  ┆ ML engineer  │\n",
      "└───────┴──────────┴────────┴──────────────┘\n",
      "\n",
      "* tail function\n",
      "shape: (2, 4)\n",
      "┌───────┬────────┬────────┬─────────────────┐\n",
      "│ Name  ┆ County ┆ Salary ┆ Job             │\n",
      "│ ---   ┆ ---    ┆ ---    ┆ ---             │\n",
      "│ str   ┆ str    ┆ i64    ┆ str             │\n",
      "╞═══════╪════════╪════════╪═════════════════╡\n",
      "│ Judy  ┆ Yilan  ┆ 48000  ┆ Servant         │\n",
      "│ Mindy ┆ Tainan ┆ 50000  ┆ Project Manager │\n",
      "└───────┴────────┴────────┴─────────────────┘\n"
     ]
    }
   ],
   "source": [
    "print(\"================== Pandas ==================\")\n",
    "print(\"* head function\")\n",
    "print(pd_df.head(2))\n",
    "print()\n",
    "print(\"* tail function\")\n",
    "print(pd_df.tail(2))\n",
    "print()\n",
    "print(\"================== Polars ==================\")\n",
    "print(\"* head function\")\n",
    "print(pl_df.head(2))\n",
    "print()\n",
    "print(\"* tail function\")\n",
    "print(pl_df.tail(2))"
   ]
  },
  {
   "attachments": {},
   "cell_type": "markdown",
   "metadata": {},
   "source": [
    "取得某欄(行)資料"
   ]
  },
  {
   "cell_type": "code",
   "execution_count": 59,
   "metadata": {},
   "outputs": [
    {
     "name": "stdout",
     "output_type": "stream",
     "text": [
      "================== Pandas ==================\n",
      "0    55000\n",
      "1    70000\n",
      "2    48000\n",
      "3    50000\n",
      "Name: Salary, dtype: int64\n",
      "\n",
      "0    55000\n",
      "1    70000\n",
      "2    48000\n",
      "3    50000\n",
      "Name: Salary, dtype: int64\n",
      "\n",
      "================== Polars ==================\n",
      "shape: (4, 1)\n",
      "┌────────┐\n",
      "│ Salary │\n",
      "│ ---    │\n",
      "│ i64    │\n",
      "╞════════╡\n",
      "│ 55000  │\n",
      "│ 70000  │\n",
      "│ 48000  │\n",
      "│ 50000  │\n",
      "└────────┘\n",
      "\n",
      "shape: (4,)\n",
      "Series: 'Salary' [i64]\n",
      "[\n",
      "\t55000\n",
      "\t70000\n",
      "\t48000\n",
      "\t50000\n",
      "]\n"
     ]
    }
   ],
   "source": [
    "print(\"================== Pandas ==================\")\n",
    "print(pd_df['Salary']) ## type: Series\n",
    "print()\n",
    "print(pd_df.loc[:, 'Salary']) # Series\n",
    "print()\n",
    "print(\"================== Polars ==================\")\n",
    "print(pl_df.select('Salary')) # DataFrame\n",
    "print()\n",
    "print(pl_df.get_column('Salary')) # Series"
   ]
  },
  {
   "attachments": {},
   "cell_type": "markdown",
   "metadata": {},
   "source": [
    "取得某列資料"
   ]
  },
  {
   "cell_type": "code",
   "execution_count": 60,
   "metadata": {},
   "outputs": [
    {
     "name": "stdout",
     "output_type": "stream",
     "text": [
      "================== Pandas ==================\n",
      "Name         Judy\n",
      "County      Yilan\n",
      "Salary      48000\n",
      "Job       Servant\n",
      "Name: 2, dtype: object\n",
      "\n",
      "Name         Judy\n",
      "County      Yilan\n",
      "Salary      48000\n",
      "Job       Servant\n",
      "Name: 2, dtype: object\n",
      "\n",
      "================== Polars ==================\n",
      "('Judy', 'Yilan', 48000, 'Servant')\n",
      "{'Name': 'Judy', 'County': 'Yilan', 'Salary': 48000, 'Job': 'Servant'}\n"
     ]
    }
   ],
   "source": [
    "print(\"================== Pandas ==================\")\n",
    "print(pd_df.iloc[2]) #Series\n",
    "print()\n",
    "print(pd_df.loc[2]) #Series\n",
    "print()\n",
    "print(\"================== Polars ==================\")\n",
    "print(pl_df.row(2))\n",
    "print(pl_df.row(2, named = True))"
   ]
  },
  {
   "attachments": {},
   "cell_type": "markdown",
   "metadata": {},
   "source": [
    "取得特定位置的值"
   ]
  },
  {
   "cell_type": "code",
   "execution_count": 11,
   "metadata": {},
   "outputs": [
    {
     "name": "stdout",
     "output_type": "stream",
     "text": [
      "================== Pandas ==================\n",
      "Taichung\n",
      "================== Polars ==================\n",
      "Taichung\n"
     ]
    }
   ],
   "source": [
    "print(\"================== Pandas ==================\")\n",
    "print(pd_df.iat[1,1])\n",
    "print(\"================== Polars ==================\")\n",
    "print(pl_df.item(1,1))"
   ]
  },
  {
   "attachments": {},
   "cell_type": "markdown",
   "metadata": {},
   "source": [
    "篩選資料"
   ]
  },
  {
   "cell_type": "code",
   "execution_count": 18,
   "metadata": {},
   "outputs": [
    {
     "name": "stdout",
     "output_type": "stream",
     "text": [
      "================== Pandas ==================\n",
      "    Name  County  Salary              Job\n",
      "3  Mindy  Tainan   50000  Project Manager\n",
      "\n",
      "================== Polars ==================\n",
      "shape: (1, 4)\n",
      "┌───────┬────────┬────────┬─────────────────┐\n",
      "│ Name  ┆ County ┆ Salary ┆ Job             │\n",
      "│ ---   ┆ ---    ┆ ---    ┆ ---             │\n",
      "│ str   ┆ str    ┆ i64    ┆ str             │\n",
      "╞═══════╪════════╪════════╪═════════════════╡\n",
      "│ Mindy ┆ Tainan ┆ 50000  ┆ Project Manager │\n",
      "└───────┴────────┴────────┴─────────────────┘\n"
     ]
    }
   ],
   "source": [
    "print(\"================== Pandas ==================\")\n",
    "multi_filter_pd_df = pd_df[(pd_df.Salary <= 50000) & (pd_df.County == \"Tainan\")]\n",
    "print(multi_filter_pd_df)\n",
    "print()\n",
    "print(\"================== Polars ==================\")\n",
    "multi_filter_pl_df = pl_df.filter((pl.col(\"Salary\") <= 50000) & (pl.col(\"County\") == \"Tainan\"))\n",
    "print(multi_filter_pl_df)"
   ]
  },
  {
   "attachments": {},
   "cell_type": "markdown",
   "metadata": {},
   "source": [
    "新增DataFrame資料"
   ]
  },
  {
   "cell_type": "code",
   "execution_count": 52,
   "metadata": {},
   "outputs": [
    {
     "name": "stdout",
     "output_type": "stream",
     "text": [
      "================== Pandas ==================\n",
      "     Name    County  Salary              Job\n",
      "0   Joyce    Taipei   55000     Data analyst\n",
      "1   Elena  Taichung   70000      ML engineer\n",
      "2    Judy     Yilan   48000          Servant\n",
      "3   Mindy    Tainan   50000  Project Manager\n",
      "0  Marcus    Taipei   60000  Survey Engineer\n",
      "\n",
      "================== Polars ==================\n",
      "shape: (5, 4)\n",
      "┌────────┬──────────┬────────┬─────────────────┐\n",
      "│ Name   ┆ County   ┆ Salary ┆ Job             │\n",
      "│ ---    ┆ ---      ┆ ---    ┆ ---             │\n",
      "│ str    ┆ str      ┆ i64    ┆ str             │\n",
      "╞════════╪══════════╪════════╪═════════════════╡\n",
      "│ Joyce  ┆ Taipei   ┆ 55000  ┆ Data analyst    │\n",
      "│ Elena  ┆ Taichung ┆ 70000  ┆ ML engineer     │\n",
      "│ Judy   ┆ Yilan    ┆ 48000  ┆ Servant         │\n",
      "│ Mindy  ┆ Tainan   ┆ 50000  ┆ Project Manager │\n",
      "│ Marcus ┆ Taipei   ┆ 60000  ┆ Survey Engineer │\n",
      "└────────┴──────────┴────────┴─────────────────┘\n"
     ]
    }
   ],
   "source": [
    "print(\"================== Pandas ==================\")\n",
    "pd_df2 = pd.DataFrame({\n",
    "    \"Name\": [\"Marcus\"],\n",
    "    \"County\": [\"Taipei\"],\n",
    "    \"Salary\": [60000],\n",
    "    \"Job\": [\"Survey Engineer\"]\n",
    "})\n",
    "new_pd_df = pd.concat([pd_df, pd_df2])\n",
    "print(new_pd_df)\n",
    "print()\n",
    "print(\"================== Polars ==================\")\n",
    "pl_df2 = pl.DataFrame({\n",
    "    \"Name\": \"Marcus\",\n",
    "    \"County\": \"Taipei\",\n",
    "    \"Salary\": 60000,\n",
    "    \"Job\": \"Survey Engineer\"\n",
    "})\n",
    "new_pl_df = pl.concat([pl_df, pl_df2])\n",
    "print(new_pl_df)\n"
   ]
  },
  {
   "attachments": {},
   "cell_type": "markdown",
   "metadata": {},
   "source": [
    "組成群組及聚合函數"
   ]
  },
  {
   "cell_type": "code",
   "execution_count": 29,
   "metadata": {},
   "outputs": [
    {
     "name": "stdout",
     "output_type": "stream",
     "text": [
      "================== Pandas ==================\n",
      "     Name  County  Salary              Job\n",
      "0   Joyce  Taipei   55000     Data analyst\n",
      "0  Marcus  Taipei   60000  Survey Engineer\n",
      "\n",
      "            min    max     mean   median\n",
      "County                                  \n",
      "Taichung  70000  70000  70000.0  70000.0\n",
      "Tainan    50000  50000  50000.0  50000.0\n",
      "Taipei    55000  60000  57500.0  57500.0\n",
      "Yilan     48000  48000  48000.0  48000.0\n",
      "\n",
      "================== Polars ==================\n",
      "shape: (4, 5)\n",
      "┌──────────┬───────┬───────┬─────────┬─────────┐\n",
      "│ County   ┆ min   ┆ max   ┆ mean    ┆ median  │\n",
      "│ ---      ┆ ---   ┆ ---   ┆ ---     ┆ ---     │\n",
      "│ str      ┆ i64   ┆ i64   ┆ f64     ┆ f64     │\n",
      "╞══════════╪═══════╪═══════╪═════════╪═════════╡\n",
      "│ Tainan   ┆ 50000 ┆ 50000 ┆ 50000.0 ┆ 50000.0 │\n",
      "│ Yilan    ┆ 48000 ┆ 48000 ┆ 48000.0 ┆ 48000.0 │\n",
      "│ Taichung ┆ 70000 ┆ 70000 ┆ 70000.0 ┆ 70000.0 │\n",
      "│ Taipei   ┆ 55000 ┆ 60000 ┆ 57500.0 ┆ 57500.0 │\n",
      "└──────────┴───────┴───────┴─────────┴─────────┘\n"
     ]
    }
   ],
   "source": [
    "print(\"================== Pandas ==================\")\n",
    "group = new_pd_df.groupby(['County']) \n",
    "print(group.get_group('Taipei'))\n",
    "print()\n",
    "print(group['Salary'].aggregate(['min', 'max', 'mean', 'median']))\n",
    "print()\n",
    "print(\"================== Polars ==================\")\n",
    "group_pl_df = new_pl_df.groupby('County').agg([pl.col('Salary').min().alias(\"min\"), pl.col('Salary').max().alias(\"max\")\n",
    "                                               ,pl.col('Salary').mean().alias(\"mean\"), pl.col('Salary').median().alias(\"median\")\n",
    "                                               ])\n",
    "print(group_pl_df)"
   ]
  },
  {
   "attachments": {},
   "cell_type": "markdown",
   "metadata": {},
   "source": [
    "對某欄的值進行計算或處理"
   ]
  },
  {
   "cell_type": "code",
   "execution_count": 53,
   "metadata": {},
   "outputs": [
    {
     "name": "stdout",
     "output_type": "stream",
     "text": [
      "================== Pandas ==================\n",
      "     Salary         County\n",
      "0   82500.0    Taipei City\n",
      "1  105000.0  Taichung City\n",
      "2   72000.0     Yilan City\n",
      "3   75000.0    Tainan City\n",
      "0   90000.0    Taipei City\n",
      "\n",
      "================== Polars ==================\n",
      "shape: (5, 2)\n",
      "┌──────────┬───────────────┐\n",
      "│ column_0 ┆ column_1      │\n",
      "│ ---      ┆ ---           │\n",
      "│ f64      ┆ str           │\n",
      "╞══════════╪═══════════════╡\n",
      "│ 82500.0  ┆ Taipei City   │\n",
      "│ 105000.0 ┆ Taichung City │\n",
      "│ 72000.0  ┆ Yilan City    │\n",
      "│ 75000.0  ┆ Tainan City   │\n",
      "│ 90000.0  ┆ Taipei City   │\n",
      "└──────────┴───────────────┘\n"
     ]
    }
   ],
   "source": [
    "print(\"================== Pandas ==================\")\n",
    "new_pd_df[\"Salary\"], new_pd_df[\"County\"] = new_pd_df[\"Salary\"].apply(lambda x: x * 1.5), new_pd_df[\"County\"].apply(lambda x: x + \" City\")\n",
    "print(new_pd_df[[\"Salary\", \"County\"]])\n",
    "# print(new_pd_df.apply(lambda t: (int(t[2]) * 1.5, t[1] + \" City\")))\n",
    "print()\n",
    "print(\"================== Polars ==================\")\n",
    "print(new_pl_df.apply(lambda t: (t[2] * 1.5, t[1] + \" City\")))"
   ]
  },
  {
   "attachments": {},
   "cell_type": "markdown",
   "metadata": {},
   "source": [
    "計算某欄位各個值的個數"
   ]
  },
  {
   "cell_type": "code",
   "execution_count": 57,
   "metadata": {},
   "outputs": [
    {
     "name": "stdout",
     "output_type": "stream",
     "text": [
      "================== Pandas ==================\n",
      "County\n",
      "Taipei City      2\n",
      "Taichung City    1\n",
      "Tainan City      1\n",
      "Yilan City       1\n",
      "Name: count, dtype: int64\n",
      "\n",
      "================== Polars ==================\n",
      "shape: (4, 1)\n",
      "┌────────────────┐\n",
      "│ County         │\n",
      "│ ---            │\n",
      "│ struct[2]      │\n",
      "╞════════════════╡\n",
      "│ {\"Taipei\",2}   │\n",
      "│ {\"Taichung\",1} │\n",
      "│ {\"Yilan\",1}    │\n",
      "│ {\"Tainan\",1}   │\n",
      "└────────────────┘\n"
     ]
    }
   ],
   "source": [
    "print(\"================== Pandas ==================\")\n",
    "print(new_pd_df.value_counts(\"County\"))\n",
    "print()\n",
    "print(\"================== Polars ==================\")\n",
    "print(new_pl_df.select(pl.col(\"County\").value_counts(sort=True)))"
   ]
  }
 ],
 "metadata": {
  "kernelspec": {
   "display_name": "py38",
   "language": "python",
   "name": "python3"
  },
  "language_info": {
   "codemirror_mode": {
    "name": "ipython",
    "version": 3
   },
   "file_extension": ".py",
   "mimetype": "text/x-python",
   "name": "python",
   "nbconvert_exporter": "python",
   "pygments_lexer": "ipython3",
   "version": "3.8.0"
  },
  "orig_nbformat": 4
 },
 "nbformat": 4,
 "nbformat_minor": 2
}
